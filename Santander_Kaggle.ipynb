{
  "nbformat": 4,
  "nbformat_minor": 0,
  "metadata": {
    "colab": {
      "name": "Santander-Kaggle",
      "version": "0.3.2",
      "provenance": [],
      "include_colab_link": true
    },
    "kernelspec": {
      "name": "python3",
      "display_name": "Python 3"
    },
    "accelerator": "GPU"
  },
  "cells": [
    {
      "cell_type": "markdown",
      "metadata": {
        "id": "view-in-github",
        "colab_type": "text"
      },
      "source": [
        "<a href=\"https://colab.research.google.com/github/nick-nagaraj/Santander-Kaggle/blob/master/Santander_Kaggle.ipynb\" target=\"_parent\"><img src=\"https://colab.research.google.com/assets/colab-badge.svg\" alt=\"Open In Colab\"/></a>"
      ]
    },
    {
      "metadata": {
        "id": "JLY6a1UdY7sr",
        "colab_type": "code",
        "colab": {}
      },
      "cell_type": "code",
      "source": [
        "!pip install -U -q kaggle\n",
        "!mkdir -p ~/.kaggle"
      ],
      "execution_count": 0,
      "outputs": []
    },
    {
      "metadata": {
        "id": "NIA7CM-Cak7i",
        "colab_type": "code",
        "colab": {}
      },
      "cell_type": "code",
      "source": [
        "!cp kaggle.json ~/.kaggle/"
      ],
      "execution_count": 0,
      "outputs": []
    },
    {
      "metadata": {
        "id": "xCK1Ch58cMXj",
        "colab_type": "code",
        "outputId": "fecdc22d-eee4-4ab3-da1f-1da91c3cd97e",
        "colab": {
          "base_uri": "https://localhost:8080/",
          "height": 211
        }
      },
      "cell_type": "code",
      "source": [
        "!kaggle competitions download -c santander-customer-transaction-prediction"
      ],
      "execution_count": 6,
      "outputs": [
        {
          "output_type": "stream",
          "text": [
            "Warning: Your Kaggle API key is readable by other users on this system! To fix this, you can run 'chmod 600 /root/.kaggle/kaggle.json'\n",
            "Downloading train.csv.zip to /content\n",
            "100% 122M/122M [00:03<00:00, 38.8MB/s]\n",
            "100% 122M/122M [00:03<00:00, 42.4MB/s]\n",
            "Downloading sample_submission.csv.zip to /content\n",
            "  0% 0.00/463k [00:00<?, ?B/s]\n",
            "100% 463k/463k [00:00<00:00, 30.2MB/s]\n",
            "Downloading test.csv.zip to /content\n",
            " 88% 107M/122M [00:02<00:00, 37.9MB/s] \n",
            "100% 122M/122M [00:02<00:00, 43.0MB/s]\n"
          ],
          "name": "stdout"
        }
      ]
    },
    {
      "metadata": {
        "id": "FMD9QPYhdTkB",
        "colab_type": "code",
        "outputId": "4154ce56-7616-4fab-bf4d-f65e61eb9e5a",
        "colab": {
          "base_uri": "https://localhost:8080/",
          "height": 86
        }
      },
      "cell_type": "code",
      "source": [
        "!unzip '/content/train.csv.zip' \n",
        "!unzip '/content/test.csv.zip' \n"
      ],
      "execution_count": 7,
      "outputs": [
        {
          "output_type": "stream",
          "text": [
            "Archive:  /content/train.csv.zip\n",
            "  inflating: train.csv               \n",
            "Archive:  /content/test.csv.zip\n",
            "  inflating: test.csv                \n"
          ],
          "name": "stdout"
        }
      ]
    },
    {
      "metadata": {
        "id": "7exGjfqIhCh_",
        "colab_type": "code",
        "colab": {}
      },
      "cell_type": "code",
      "source": [
        "import pandas as pd\n",
        "from sklearn.linear_model import LogisticRegressionCV, SGDClassifier\n",
        "from sklearn import svm\n",
        "from sklearn.ensemble import GradientBoostingClassifier, BaggingClassifier\n",
        "import pickle\n",
        "from sklearn.preprocessing import MinMaxScaler\n",
        "import csv\n",
        "from sklearn import model_selection\n",
        "from sklearn import metrics\n",
        "import numpy as np\n",
        "from sklearn import preprocessing\n",
        "from sklearn.model_selection import train_test_split\n",
        "import seaborn as sns\n",
        "import statsmodels.api as sm\n",
        "from imblearn.over_sampling import SMOTE\n",
        "from keras import models, layers, regularizers\n",
        "\n",
        "def noise(X, y, n, sigma):\n",
        "    _X = X.copy()\n",
        "    _y = y.copy()\n",
        "    for _ in range(n):\n",
        "        X = np.r_[X, _X + np.random.randn(*_X.shape)*sigma]\n",
        "        y = np.r_[y, _y]\n",
        "    return X, y\n",
        " "
      ],
      "execution_count": 0,
      "outputs": []
    },
    {
      "metadata": {
        "id": "xAmtcQh0iKiQ",
        "colab_type": "code",
        "outputId": "14c32b9f-991b-4709-9de2-324f580d6e77",
        "colab": {
          "base_uri": "https://localhost:8080/",
          "height": 256
        }
      },
      "cell_type": "code",
      "source": [
        "data = pd.read_csv('train.csv', header = 0)\n",
        "data.head()"
      ],
      "execution_count": 3,
      "outputs": [
        {
          "output_type": "execute_result",
          "data": {
            "text/html": [
              "<div>\n",
              "<style scoped>\n",
              "    .dataframe tbody tr th:only-of-type {\n",
              "        vertical-align: middle;\n",
              "    }\n",
              "\n",
              "    .dataframe tbody tr th {\n",
              "        vertical-align: top;\n",
              "    }\n",
              "\n",
              "    .dataframe thead th {\n",
              "        text-align: right;\n",
              "    }\n",
              "</style>\n",
              "<table border=\"1\" class=\"dataframe\">\n",
              "  <thead>\n",
              "    <tr style=\"text-align: right;\">\n",
              "      <th></th>\n",
              "      <th>ID_code</th>\n",
              "      <th>target</th>\n",
              "      <th>var_0</th>\n",
              "      <th>var_1</th>\n",
              "      <th>var_2</th>\n",
              "      <th>var_3</th>\n",
              "      <th>var_4</th>\n",
              "      <th>var_5</th>\n",
              "      <th>var_6</th>\n",
              "      <th>var_7</th>\n",
              "      <th>...</th>\n",
              "      <th>var_190</th>\n",
              "      <th>var_191</th>\n",
              "      <th>var_192</th>\n",
              "      <th>var_193</th>\n",
              "      <th>var_194</th>\n",
              "      <th>var_195</th>\n",
              "      <th>var_196</th>\n",
              "      <th>var_197</th>\n",
              "      <th>var_198</th>\n",
              "      <th>var_199</th>\n",
              "    </tr>\n",
              "  </thead>\n",
              "  <tbody>\n",
              "    <tr>\n",
              "      <th>0</th>\n",
              "      <td>train_0</td>\n",
              "      <td>0</td>\n",
              "      <td>8.9255</td>\n",
              "      <td>-6.7863</td>\n",
              "      <td>11.9081</td>\n",
              "      <td>5.0930</td>\n",
              "      <td>11.4607</td>\n",
              "      <td>-9.2834</td>\n",
              "      <td>5.1187</td>\n",
              "      <td>18.6266</td>\n",
              "      <td>...</td>\n",
              "      <td>4.4354</td>\n",
              "      <td>3.9642</td>\n",
              "      <td>3.1364</td>\n",
              "      <td>1.6910</td>\n",
              "      <td>18.5227</td>\n",
              "      <td>-2.3978</td>\n",
              "      <td>7.8784</td>\n",
              "      <td>8.5635</td>\n",
              "      <td>12.7803</td>\n",
              "      <td>-1.0914</td>\n",
              "    </tr>\n",
              "    <tr>\n",
              "      <th>1</th>\n",
              "      <td>train_1</td>\n",
              "      <td>0</td>\n",
              "      <td>11.5006</td>\n",
              "      <td>-4.1473</td>\n",
              "      <td>13.8588</td>\n",
              "      <td>5.3890</td>\n",
              "      <td>12.3622</td>\n",
              "      <td>7.0433</td>\n",
              "      <td>5.6208</td>\n",
              "      <td>16.5338</td>\n",
              "      <td>...</td>\n",
              "      <td>7.6421</td>\n",
              "      <td>7.7214</td>\n",
              "      <td>2.5837</td>\n",
              "      <td>10.9516</td>\n",
              "      <td>15.4305</td>\n",
              "      <td>2.0339</td>\n",
              "      <td>8.1267</td>\n",
              "      <td>8.7889</td>\n",
              "      <td>18.3560</td>\n",
              "      <td>1.9518</td>\n",
              "    </tr>\n",
              "    <tr>\n",
              "      <th>2</th>\n",
              "      <td>train_2</td>\n",
              "      <td>0</td>\n",
              "      <td>8.6093</td>\n",
              "      <td>-2.7457</td>\n",
              "      <td>12.0805</td>\n",
              "      <td>7.8928</td>\n",
              "      <td>10.5825</td>\n",
              "      <td>-9.0837</td>\n",
              "      <td>6.9427</td>\n",
              "      <td>14.6155</td>\n",
              "      <td>...</td>\n",
              "      <td>2.9057</td>\n",
              "      <td>9.7905</td>\n",
              "      <td>1.6704</td>\n",
              "      <td>1.6858</td>\n",
              "      <td>21.6042</td>\n",
              "      <td>3.1417</td>\n",
              "      <td>-6.5213</td>\n",
              "      <td>8.2675</td>\n",
              "      <td>14.7222</td>\n",
              "      <td>0.3965</td>\n",
              "    </tr>\n",
              "    <tr>\n",
              "      <th>3</th>\n",
              "      <td>train_3</td>\n",
              "      <td>0</td>\n",
              "      <td>11.0604</td>\n",
              "      <td>-2.1518</td>\n",
              "      <td>8.9522</td>\n",
              "      <td>7.1957</td>\n",
              "      <td>12.5846</td>\n",
              "      <td>-1.8361</td>\n",
              "      <td>5.8428</td>\n",
              "      <td>14.9250</td>\n",
              "      <td>...</td>\n",
              "      <td>4.4666</td>\n",
              "      <td>4.7433</td>\n",
              "      <td>0.7178</td>\n",
              "      <td>1.4214</td>\n",
              "      <td>23.0347</td>\n",
              "      <td>-1.2706</td>\n",
              "      <td>-2.9275</td>\n",
              "      <td>10.2922</td>\n",
              "      <td>17.9697</td>\n",
              "      <td>-8.9996</td>\n",
              "    </tr>\n",
              "    <tr>\n",
              "      <th>4</th>\n",
              "      <td>train_4</td>\n",
              "      <td>0</td>\n",
              "      <td>9.8369</td>\n",
              "      <td>-1.4834</td>\n",
              "      <td>12.8746</td>\n",
              "      <td>6.6375</td>\n",
              "      <td>12.2772</td>\n",
              "      <td>2.4486</td>\n",
              "      <td>5.9405</td>\n",
              "      <td>19.2514</td>\n",
              "      <td>...</td>\n",
              "      <td>-1.4905</td>\n",
              "      <td>9.5214</td>\n",
              "      <td>-0.1508</td>\n",
              "      <td>9.1942</td>\n",
              "      <td>13.2876</td>\n",
              "      <td>-1.5121</td>\n",
              "      <td>3.9267</td>\n",
              "      <td>9.5031</td>\n",
              "      <td>17.9974</td>\n",
              "      <td>-8.8104</td>\n",
              "    </tr>\n",
              "  </tbody>\n",
              "</table>\n",
              "<p>5 rows × 202 columns</p>\n",
              "</div>"
            ],
            "text/plain": [
              "   ID_code  target    var_0   var_1    var_2   var_3    var_4   var_5   var_6  \\\n",
              "0  train_0       0   8.9255 -6.7863  11.9081  5.0930  11.4607 -9.2834  5.1187   \n",
              "1  train_1       0  11.5006 -4.1473  13.8588  5.3890  12.3622  7.0433  5.6208   \n",
              "2  train_2       0   8.6093 -2.7457  12.0805  7.8928  10.5825 -9.0837  6.9427   \n",
              "3  train_3       0  11.0604 -2.1518   8.9522  7.1957  12.5846 -1.8361  5.8428   \n",
              "4  train_4       0   9.8369 -1.4834  12.8746  6.6375  12.2772  2.4486  5.9405   \n",
              "\n",
              "     var_7   ...     var_190  var_191  var_192  var_193  var_194  var_195  \\\n",
              "0  18.6266   ...      4.4354   3.9642   3.1364   1.6910  18.5227  -2.3978   \n",
              "1  16.5338   ...      7.6421   7.7214   2.5837  10.9516  15.4305   2.0339   \n",
              "2  14.6155   ...      2.9057   9.7905   1.6704   1.6858  21.6042   3.1417   \n",
              "3  14.9250   ...      4.4666   4.7433   0.7178   1.4214  23.0347  -1.2706   \n",
              "4  19.2514   ...     -1.4905   9.5214  -0.1508   9.1942  13.2876  -1.5121   \n",
              "\n",
              "   var_196  var_197  var_198  var_199  \n",
              "0   7.8784   8.5635  12.7803  -1.0914  \n",
              "1   8.1267   8.7889  18.3560   1.9518  \n",
              "2  -6.5213   8.2675  14.7222   0.3965  \n",
              "3  -2.9275  10.2922  17.9697  -8.9996  \n",
              "4   3.9267   9.5031  17.9974  -8.8104  \n",
              "\n",
              "[5 rows x 202 columns]"
            ]
          },
          "metadata": {
            "tags": []
          },
          "execution_count": 3
        }
      ]
    },
    {
      "metadata": {
        "id": "hCbv5LSXpMj8",
        "colab_type": "code",
        "colab": {}
      },
      "cell_type": "code",
      "source": [
        "cols = []\n",
        "for i in range(0, 200):\n",
        "  cols.append(\"var_{}\".format(i))"
      ],
      "execution_count": 0,
      "outputs": []
    },
    {
      "metadata": {
        "id": "gi2SgZywoeAX",
        "colab_type": "code",
        "colab": {
          "base_uri": "https://localhost:8080/",
          "height": 1563
        },
        "outputId": "b35da3b5-79a0-46f3-a49f-293b8fca0c3e"
      },
      "cell_type": "code",
      "source": [
        "y_train = data['target']\n",
        "x_train = data[cols]\n",
        "X_train, X_test, Y_train, Y_test = train_test_split(x_train, y_train, test_size=0.3, random_state=0)\n",
        "scaler = MinMaxScaler()\n",
        "X_train = scaler.fit_transform(X_train)\n",
        "logreg = GradientBoostingClassifier(loss = \"deviance\", n_estimators=1200, learning_rate=0.3, max_depth=3, random_state=34, verbose = 2, validation_fraction = 0.35, subsample = 0.8).fit(X_train, Y_train)\n",
        "filename = 'finalized_model.sav'\n",
        "pickle.dump(logreg, open(filename, 'wb'))"
      ],
      "execution_count": 0,
      "outputs": [
        {
          "output_type": "stream",
          "text": [
            "      Iter       Train Loss      OOB Improve   Remaining Time \n",
            "         1           0.6374           0.0115           63.86m\n",
            "         2           0.6266           0.0070           62.94m\n",
            "         3           0.6194           0.0070           62.98m\n",
            "         4           0.6156           0.0055           62.78m\n",
            "         5           0.6102           0.0052           62.69m\n",
            "         6           0.6027           0.0044           62.55m\n",
            "         7           0.5964           0.0037           62.21m\n",
            "         8           0.5927           0.0030           61.96m\n",
            "         9           0.5883           0.0038           61.70m\n",
            "        10           0.5818           0.0033           61.72m\n",
            "        11           0.5751           0.0036           61.84m\n",
            "        12           0.5741           0.0038           61.94m\n",
            "        13           0.5707           0.0025           62.00m\n",
            "        14           0.5647           0.0023           61.93m\n",
            "        15           0.5614           0.0026           61.86m\n",
            "        16           0.5573           0.0030           61.86m\n",
            "        17           0.5537           0.0034           61.76m\n",
            "        18           0.5535           0.0023           61.72m\n",
            "        19           0.5486           0.0021           61.86m\n",
            "        20           0.5475           0.0019           61.74m\n",
            "        21           0.5421           0.0024           61.81m\n",
            "        22           0.5370           0.0022           61.93m\n",
            "        23           0.5379           0.0014           61.85m\n",
            "        24           0.5342           0.0022           61.75m\n",
            "        25           0.5297           0.0020           61.74m\n",
            "        26           0.5272           0.0021           61.80m\n",
            "        27           0.5273           0.0015           61.76m\n",
            "        28           0.5210           0.0017           61.83m\n",
            "        29           0.5208           0.0016           61.73m\n",
            "        30           0.5172           0.0016           61.76m\n",
            "        31           0.5148           0.0016           61.66m\n",
            "        32           0.5151           0.0013           61.65m\n",
            "        33           0.5123           0.0013           61.60m\n",
            "        34           0.5086           0.0015           61.55m\n",
            "        35           0.5088           0.0013           61.54m\n",
            "        36           0.5057           0.0014           61.58m\n",
            "        37           0.5021           0.0009           61.46m\n",
            "        38           0.4997           0.0013           61.42m\n",
            "        39           0.5024           0.0008           61.32m\n",
            "        40           0.4977           0.0009           61.28m\n",
            "        41           0.4935           0.0008           61.21m\n",
            "        42           0.4924           0.0007           61.14m\n",
            "        43           0.4942           0.0010           61.07m\n",
            "        44           0.4904           0.0007           61.02m\n",
            "        45           0.4886           0.0011           61.04m\n",
            "        46           0.4845           0.0010           60.96m\n",
            "        47           0.4856           0.0007           60.93m\n",
            "        48           0.4818           0.0010           60.90m\n",
            "        49           0.4809           0.0009           60.82m\n",
            "        50           0.4800           0.0006           60.77m\n",
            "        51           0.4789           0.0006           60.69m\n",
            "        52           0.4783           0.0012           60.69m\n",
            "        53           0.4758           0.0004           60.61m\n",
            "        54           0.4736           0.0004           60.57m\n",
            "        55           0.4753           0.0009           60.50m\n",
            "        56           0.4706           0.0006           60.47m\n",
            "        57           0.4670           0.0005           60.40m\n",
            "        58           0.4675           0.0007           60.34m\n",
            "        59           0.4640           0.0007           60.30m\n",
            "        60           0.4658           0.0005           60.22m\n",
            "        61           0.4635           0.0008           60.21m\n",
            "        62           0.4617           0.0009           60.20m\n",
            "        63           0.4615           0.0007           60.19m\n",
            "        64           0.4597           0.0007           60.19m\n",
            "        65           0.4581           0.0006           60.12m\n",
            "        66           0.4567           0.0004           60.06m\n",
            "        67           0.4558           0.0006           60.00m\n",
            "        68           0.4556           0.0007           59.95m\n",
            "        69           0.4543           0.0006           59.92m\n",
            "        70           0.4515           0.0007           59.90m\n",
            "        71           0.4482           0.0003           59.84m\n",
            "        72           0.4492           0.0007           59.82m\n",
            "        73           0.4466           0.0004           59.74m\n",
            "        74           0.4469           0.0006           59.71m\n",
            "        75           0.4459           0.0005           59.68m\n",
            "        76           0.4451           0.0004           59.60m\n",
            "        77           0.4413           0.0002           59.53m\n",
            "        78           0.4418           0.0005           59.47m\n",
            "        79           0.4394           0.0003           59.45m\n",
            "        80           0.4406           0.0002           59.40m\n",
            "        81           0.4397           0.0003           59.32m\n",
            "        82           0.4376           0.0003           59.25m\n",
            "        83           0.4340           0.0004           59.23m\n",
            "        84           0.4374           0.0005           59.19m\n",
            "        85           0.4367           0.0006           59.15m\n",
            "        86           0.4346           0.0004           59.12m\n",
            "        87           0.4347           0.0003           59.09m\n",
            "        88           0.4339          -0.0000           59.02m\n"
          ],
          "name": "stdout"
        }
      ]
    },
    {
      "metadata": {
        "id": "eWo7skOFm_Nm",
        "colab_type": "code",
        "outputId": "81508429-72c3-465d-9bcb-8bc55cf16e87",
        "colab": {
          "base_uri": "https://localhost:8080/",
          "height": 34
        }
      },
      "cell_type": "code",
      "source": [
        "X_test = scaler.fit_transform(X_test)\n",
        "y_pred = logreg.predict(X_test)\n",
        "print('Accuracy of classifier on test set: {:.2f}'.format(logreg.score(X_test, Y_test)))"
      ],
      "execution_count": 41,
      "outputs": [
        {
          "output_type": "stream",
          "text": [
            "Accuracy of logistic regression classifier on test set: 0.92\n"
          ],
          "name": "stdout"
        }
      ]
    },
    {
      "metadata": {
        "id": "B4Gth8uiuDCl",
        "colab_type": "code",
        "colab": {}
      },
      "cell_type": "code",
      "source": [
        "data_test = pd.read_csv('test.csv', header = 0)\n",
        "\n",
        "x_test = data_test[cols]\n",
        "\n",
        "x_test = scaler.fit_transform(x_test)\n",
        "#x_test = preprocessing.normalize(x_test, norm='l1')\n",
        "\n",
        "y_test = logreg.predict(x_test)\n",
        "\n",
        "\n"
      ],
      "execution_count": 0,
      "outputs": []
    },
    {
      "metadata": {
        "id": "6Mzri7TPwxQK",
        "colab_type": "code",
        "colab": {}
      },
      "cell_type": "code",
      "source": [
        " \n",
        "with open('final.csv', 'w') as csvfile:\n",
        "    filewriter = csv.writer(csvfile, delimiter=',', quotechar='|', quoting=csv.QUOTE_MINIMAL)\n",
        "    filewriter.writerow(['ID_code','target'])\n",
        "    for i in range(0,len(y_test)):\n",
        "       val_1 = \"test_{}\".format(i)\n",
        "       val_2 = y_test[i]\n",
        "       filewriter.writerow([val_1,val_2])\n",
        "       "
      ],
      "execution_count": 0,
      "outputs": []
    },
    {
      "metadata": {
        "id": "1vCmj0Bks6iK",
        "colab_type": "code",
        "outputId": "ebff4ade-8896-42fe-d259-9d9359a13ed6",
        "colab": {
          "base_uri": "https://localhost:8080/",
          "height": 173
        }
      },
      "cell_type": "code",
      "source": [
        "from sklearn.metrics import classification_report\n",
        "print(classification_report(Y_test, y_pred))"
      ],
      "execution_count": 53,
      "outputs": [
        {
          "output_type": "stream",
          "text": [
            "              precision    recall  f1-score   support\n",
            "\n",
            "           0       0.93      0.98      0.96     71876\n",
            "           1       0.70      0.36      0.47      8124\n",
            "\n",
            "   micro avg       0.92      0.92      0.92     80000\n",
            "   macro avg       0.81      0.67      0.71     80000\n",
            "weighted avg       0.91      0.92      0.91     80000\n",
            "\n"
          ],
          "name": "stdout"
        }
      ]
    },
    {
      "metadata": {
        "id": "-ibGJsA_IJki",
        "colab_type": "code",
        "outputId": "12a981aa-6a0d-43df-c49c-621ff79f7e26",
        "colab": {
          "base_uri": "https://localhost:8080/",
          "height": 206
        }
      },
      "cell_type": "code",
      "source": [
        "data_trial = pd.read_csv('final.csv')\n",
        "data_trial.head()"
      ],
      "execution_count": 57,
      "outputs": [
        {
          "output_type": "execute_result",
          "data": {
            "text/html": [
              "<div>\n",
              "<style scoped>\n",
              "    .dataframe tbody tr th:only-of-type {\n",
              "        vertical-align: middle;\n",
              "    }\n",
              "\n",
              "    .dataframe tbody tr th {\n",
              "        vertical-align: top;\n",
              "    }\n",
              "\n",
              "    .dataframe thead th {\n",
              "        text-align: right;\n",
              "    }\n",
              "</style>\n",
              "<table border=\"1\" class=\"dataframe\">\n",
              "  <thead>\n",
              "    <tr style=\"text-align: right;\">\n",
              "      <th></th>\n",
              "      <th>ID_code</th>\n",
              "      <th>target</th>\n",
              "    </tr>\n",
              "  </thead>\n",
              "  <tbody>\n",
              "    <tr>\n",
              "      <th>0</th>\n",
              "      <td>test_0</td>\n",
              "      <td>0</td>\n",
              "    </tr>\n",
              "    <tr>\n",
              "      <th>1</th>\n",
              "      <td>test_1</td>\n",
              "      <td>0</td>\n",
              "    </tr>\n",
              "    <tr>\n",
              "      <th>2</th>\n",
              "      <td>test_2</td>\n",
              "      <td>0</td>\n",
              "    </tr>\n",
              "    <tr>\n",
              "      <th>3</th>\n",
              "      <td>test_3</td>\n",
              "      <td>0</td>\n",
              "    </tr>\n",
              "    <tr>\n",
              "      <th>4</th>\n",
              "      <td>test_4</td>\n",
              "      <td>0</td>\n",
              "    </tr>\n",
              "  </tbody>\n",
              "</table>\n",
              "</div>"
            ],
            "text/plain": [
              "  ID_code  target\n",
              "0  test_0       0\n",
              "1  test_1       0\n",
              "2  test_2       0\n",
              "3  test_3       0\n",
              "4  test_4       0"
            ]
          },
          "metadata": {
            "tags": []
          },
          "execution_count": 57
        }
      ]
    }
  ]
}